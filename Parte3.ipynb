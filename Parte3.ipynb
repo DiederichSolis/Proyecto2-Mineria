{
  "cells": [
    {
      "cell_type": "markdown",
      "metadata": {
        "id": "OXplCSdJLPVy"
      },
      "source": [
        "# **Proyecto 2 - Entrega 3**  \n",
        "\n",
        "## 👥 **Integrantes:**  \n",
        "- **Diederich Solis** (22952)  \n",
        "- **Gabriel Paz** (221087)  "
      ]
    },
    {
      "cell_type": "markdown",
      "metadata": {
        "id": "Rb-uVPUQRsVD"
      },
      "source": [
        "1. Elabore un modelo de regresión usando bayes ingenuo (naive bayes), el conjunto de\n",
        "entrenamiento y la variable respuesta SalesPrice. Prediga con el modelo y explique los\n",
        "resultados a los que llega. Asegúrese que los conjuntos de entrenamiento y prueba sean los\n",
        "mismos de las hojas anteriores para que los modelos sean comparables."
      ]
    },
    {
      "cell_type": "code",
      "execution_count": 1,
      "metadata": {
        "colab": {
          "base_uri": "https://localhost:8080/",
          "height": 731
        },
        "id": "W6s6oiVjROkf",
        "outputId": "e1d2fb3d-1312-4a28-c3cf-2a3a4363ad22"
      },
      "outputs": [
        {
          "name": "stdout",
          "output_type": "stream",
          "text": [
            "Precisión del modelo Naïve Bayes: 0.6301\n",
            "\n",
            "Reporte de Clasificación:\n",
            "              precision    recall  f1-score   support\n",
            "\n",
            "        Alto       0.92      0.72      0.81        68\n",
            "        Bajo       0.53      0.94      0.68        81\n",
            "  Medio-Alto       0.66      0.79      0.72        63\n",
            "  Medio-Bajo       0.45      0.11      0.18        80\n",
            "\n",
            "    accuracy                           0.63       292\n",
            "   macro avg       0.64      0.64      0.60       292\n",
            "weighted avg       0.63      0.63      0.58       292\n",
            "\n"
          ]
        },
        {
          "data": {
            "image/png": "[encoded data removed]",
            "text/plain": [
              "<Figure size 800x500 with 1 Axes>"
            ]
          },
          "metadata": {},
          "output_type": "display_data"
        }
      ],
      "source": [
        "import pandas as pd\n",
        "import numpy as np\n",
        "import matplotlib.pyplot as plt\n",
        "from sklearn.model_selection import train_test_split\n",
        "from sklearn.naive_bayes import GaussianNB\n",
        "from sklearn.metrics import accuracy_score, classification_report\n",
        "\n",
        "# Cargar los datos\n",
        "df = pd.read_csv(\"train.csv\")\n",
        "\n",
        "# Seleccionar características numéricas\n",
        "numerical_features = df.select_dtypes(include=[np.number]).columns.tolist()\n",
        "\n",
        "# Eliminar columnas irrelevantes\n",
        "numerical_features.remove(\"Id\")  # No aporta información relevante\n",
        "\n",
        "# Definir variable objetivo\n",
        "y = df[\"SalePrice\"]\n",
        "\n",
        "# Discretizar SalePrice en categorías (Binning)\n",
        "y_bins = pd.qcut(y, q=4, labels=[\"Bajo\", \"Medio-Bajo\", \"Medio-Alto\", \"Alto\"])\n",
        "\n",
        "# Eliminar SalePrice del conjunto de predictores\n",
        "numerical_features.remove(\"SalePrice\")\n",
        "X = df[numerical_features]\n",
        "\n",
        "# Manejar valores nulos llenando con la mediana\n",
        "X = X.fillna(X.median())\n",
        "\n",
        "# División de los datos en entrenamiento y prueba\n",
        "X_train, X_test, y_train, y_test = train_test_split(X, y_bins, test_size=0.2, random_state=42)\n",
        "\n",
        "# Modelo de Bayes Ingenuo\n",
        "naive_bayes = GaussianNB()\n",
        "naive_bayes.fit(X_train, y_train)\n",
        "\n",
        "# Predicciones\n",
        "y_pred = naive_bayes.predict(X_test)\n",
        "\n",
        "# Evaluación del modelo\n",
        "accuracy = accuracy_score(y_test, y_pred)\n",
        "print(f\"Precisión del modelo Naïve Bayes: {accuracy:.4f}\\n\")\n",
        "print(\"Reporte de Clasificación:\")\n",
        "print(classification_report(y_test, y_pred))\n",
        "\n",
        "# Visualización de la distribución real vs predicha\n",
        "plt.figure(figsize=(8,5))\n",
        "plt.hist(y_test, alpha=0.5, label='Real', bins=4)\n",
        "plt.hist(y_pred, alpha=0.5, label='Predicho', bins=4)\n",
        "plt.xlabel(\"Categoría de Precio de Vivienda\")\n",
        "plt.ylabel(\"Frecuencia\")\n",
        "plt.legend()\n",
        "plt.title(\"Distribución de Precios de Vivienda: Real vs Predicho\")\n",
        "plt.show()\n"
      ]
    },
    {
      "cell_type": "markdown",
      "metadata": {
        "id": "AU4g6SAQRvTV"
      },
      "source": [
        "## **2. Analice los resultados del modelo de regresión usando bayes ingenuo. ¿Qué tan bien le fue prediciendo? Utilice las métricas correctas.**"
      ]
    },
    {
      "cell_type": "markdown",
      "metadata": {
        "id": "HMgGsaw4TBej"
      },
      "source": [
        "\n",
        "El modelo de **Naïve Bayes** se utilizó para **clasificar los precios de las viviendas** en cuatro categorías (`Bajo`, `Medio-Bajo`, `Medio-Alto`, `Alto`). Ahora analizamos su desempeño con base en las métricas obtenidas:\n",
        "\n",
        "###  **1. Precisión Global**\n",
        "- **Precisión del modelo:** `63.01%`\n",
        "- Esto significa que el modelo predijo correctamente el precio categorizado de la vivienda en aproximadamente **63 de cada 100 casos**. No es un resultado excelente, pero considerando que **Naïve Bayes** asume independencia entre variables (lo cual no se cumple en precios de casas), es un desempeño aceptable.\n",
        "\n",
        "###  **2. Análisis del Reporte de Clasificación**\n",
        "Métricas clave por categoría:\n",
        "\n",
        "- **`Alto:`**  \n",
        "  - **Precisión:** 92%  \n",
        "  - **Recall:** 72%  \n",
        "  - **F1-score:** 81%  \n",
        "  - El modelo identifica bien las casas más caras, pero algunas se confunden con otras categorías.\n",
        "\n",
        "- **`Bajo:`**  \n",
        "  - **Precisión:** 53%  \n",
        "  - **Recall:** 94%  \n",
        "  - **F1-score:** 68%  \n",
        "  - Muchas casas baratas fueron correctamente identificadas, pero algunas predicciones se mezclaron con otras categorías.\n",
        "\n",
        "- **`Medio-Alto:`**  \n",
        "  - **Precisión:** 66%  \n",
        "  - **Recall:** 79%  \n",
        "  - **F1-score:** 72%  \n",
        "  - Buen desempeño, pero con margen de error en los límites de esta categoría.\n",
        "\n",
        "- **`Medio-Bajo:`**  \n",
        "  - **Precisión:** 45%  \n",
        "  - **Recall:** 11%  \n",
        "  - **F1-score:** 18%  \n",
        "  - **Esta es la categoría peor clasificada**, lo que sugiere que el modelo tiene dificultades para diferenciar casas en el rango medio-bajo.\n",
        "\n",
        "####  **3. Interpretación del Histograma**\n",
        "- **El histograma muestra que la categoría \"Bajo\" fue la más predicha por el modelo**, mientras que otras categorías no se predijeron con la misma frecuencia.\n",
        "- Esto indica que el modelo tiende a clasificar más casas en la categoría `Bajo`, lo que puede deberse a una distribución desigual de datos en el conjunto de entrenamiento.\n",
        "\n",
        "---\n",
        "\n",
        "### **Conclusión**\n",
        "### **Fortalezas del modelo**:\n",
        "- Funciona bien en las categorías `Alto` y `Bajo`, mostrando precisión razonable en estos casos.\n",
        "- Logra una precisión global del **63%**, lo que no es terrible para un modelo simple como Naïve Bayes.\n",
        "\n",
        "### **Debilidades del modelo**:\n",
        "- Tiene problemas con la categoría `Medio-Bajo`, con un recall de solo **11%**.\n",
        "- Es probable que **las variables predictoras no sean completamente independientes**, lo cual afecta a Naïve Bayes.\n",
        "\n",
        "### **Posibles mejoras**:\n",
        "- Probar otros modelos como **Random Forest o Regresión Logística** que no asumen independencia de las variables.\n",
        "- Revisar si la categorización de precios (`qcut`) está equilibrada para evitar que el modelo sesgue su clasificación.\n",
        "\n",
        "En resumen, **Naïve Bayes tiene un rendimiento moderado, pero no es el mejor modelo para este tipo de predicción**, ya que hay una fuerte correlación entre las variables de entrada y no todas las relaciones son captadas adecuadamente por este enfoque probabilístico.\n"
      ]
    },
    {
      "cell_type": "markdown",
      "metadata": {
        "id": "4rF30BMGVKmC"
      },
      "source": [
        "## **3. Compare los resultados con el modelo de regresión lineal y el árbol de regresión que hizo en las entregas pasadas. ¿Cuál funcionó mejor?**"
      ]
    },
    {
      "cell_type": "markdown",
      "metadata": {
        "id": "mpM5NFR5V9BN"
      },
      "source": [
        "# **Comparación de Modelos: Naïve Bayes vs. Árbol de Regresión vs. Regresión Lineal**\n",
        "\n",
        "Hemos probado tres modelos distintos para predecir los precios de las viviendas. A continuación, comparamos sus resultados:\n",
        "\n",
        "## **1. Resultados de cada modelo**\n",
        "### ** Naïve Bayes (Clasificación)**\n",
        "- **Precisión del modelo:** `63.01%`\n",
        "- **Puntos fuertes:**\n",
        "  - Funciona bien para clasificar casas en las categorías `Bajo` y `Alto`.\n",
        "  - Tiene una precisión razonable en clasificación general.\n",
        "- **Debilidades:**\n",
        "  - **La categoría \"Medio-Bajo\" tiene un recall muy bajo (11%)**, lo que indica que el modelo tiene problemas para diferenciar bien las casas en esta categoría.\n",
        "  - **Asume independencia entre variables**, lo cual no se cumple en este tipo de datos.\n",
        "\n",
        "### ** Árbol de Regresión**\n",
        "- **MAE (Error Absoluto Medio):** `27,263.49`\n",
        "- **RMSE (Raíz del Error Cuadrático Medio):** `38,836.67`\n",
        "- **Puntos fuertes:**\n",
        "  - Puede capturar relaciones no lineales entre variables.\n",
        "  - El árbol de decisión muestra claramente las características más importantes en la clasificación de precios.\n",
        "- **Debilidades:**\n",
        "  - Puede sobreajustarse si no se controla la profundidad del árbol.\n",
        "  - No es el mejor para datos con muchas variables interdependientes.\n",
        "\n",
        "### ** Regresión Lineal**\n",
        "- **MAE:** `21,540.23`\n",
        "- **RMSE:** `34,678.91`\n",
        "- **Puntos fuertes:**\n",
        "  - Es un modelo simple y rápido.\n",
        "  - Generaliza bien en algunos casos y no tiende a sobreajustarse como un árbol de regresión.\n",
        "- **Debilidades:**\n",
        "  - No captura bien relaciones no lineales.\n",
        "  - No funciona bien cuando hay muchas variables categóricas que afectan el precio de manera compleja.\n",
        "\n",
        "---\n",
        "\n",
        "## **2. Comparación Final: ¿Cuál modelo funcionó mejor?**\n",
        "| Modelo               | Tipo           | Precisión / MAE | RMSE   | Observaciones |\n",
        "|----------------------|---------------|----------------|--------|--------------|\n",
        "| **Naïve Bayes**     | Clasificación  | **63.01%**     | -      | Bueno en categorías `Bajo` y `Alto`, pero mal en `Medio-Bajo`. |\n",
        "| **Árbol de Regresión** | Regresión  | 27,263.49 (MAE) | 38,836.67 | Captura relaciones complejas, pero puede sobreajustar. |\n",
        "| **Regresión Lineal** | Regresión  | **21,540.23 (MAE)** | **34,678.91** | Mejor en términos de error absoluto y cuadrático medio. |\n",
        "\n",
        "### ** Conclusión**\n",
        "**El modelo de Regresión Lineal tuvo el mejor desempeño en términos de error absoluto y cuadrático medio**.  \n",
        " **Si queremos una clasificación de precios, el Árbol de Regresión es mejor que Naïve Bayes** porque tiene mayor precisión y un mejor manejo de la estructura de datos.  \n",
        "**Naïve Bayes no es la mejor opción para este problema**, ya que su precisión es menor y tiene problemas con la categoría `Medio-Bajo`.  \n"
      ]
    },
    {
      "cell_type": "markdown",
      "metadata": {
        "id": "G-5R1SviW9iY"
      },
      "source": [
        "## **4 .Haga un modelo de clasificación, use la variable categórica que hizo con el precio de las\n",
        "casas (barata, media y cara) como variable respuesta**"
      ]
    },
    {
      "cell_type": "code",
      "execution_count": 6,
      "metadata": {
        "colab": {
          "base_uri": "https://localhost:8080/",
          "height": 713
        },
        "id": "4xoZ_E9HZDjD",
        "outputId": "9c792840-b69d-4c4a-d0d0-01b37e8150b9"
      },
      "outputs": [
        {
          "name": "stdout",
          "output_type": "stream",
          "text": [
            "Precisión del modelo de Clasificación: 0.8459\n",
            "\n",
            "Reporte de Clasificación:\n",
            "              precision    recall  f1-score   support\n",
            "\n",
            "        Alto       0.92      0.87      0.90        94\n",
            "        Bajo       0.86      0.90      0.88       110\n",
            "       Medio       0.75      0.75      0.75        88\n",
            "\n",
            "    accuracy                           0.85       292\n",
            "   macro avg       0.84      0.84      0.84       292\n",
            "weighted avg       0.85      0.85      0.85       292\n",
            "\n"
          ]
        },
        {
          "data": {
            "image/png": "[encoded data removed]",
            "text/plain": [
              "<Figure size 600x500 with 2 Axes>"
            ]
          },
          "metadata": {},
          "output_type": "display_data"
        }
      ],
      "source": [
        "import pandas as pd\n",
        "import numpy as np\n",
        "import matplotlib.pyplot as plt\n",
        "from sklearn.model_selection import train_test_split\n",
        "from sklearn.ensemble import RandomForestClassifier\n",
        "from sklearn.metrics import accuracy_score, classification_report, confusion_matrix\n",
        "import seaborn as sns\n",
        "\n",
        "# Cargar los datos\n",
        "df = pd.read_csv(\"train.csv\")\n",
        "\n",
        "# Seleccionar características numéricas\n",
        "numerical_features = df.select_dtypes(include=[np.number]).columns.tolist()\n",
        "\n",
        "# Eliminar columnas irrelevantes\n",
        "numerical_features.remove(\"Id\")  # No aporta información relevante\n",
        "\n",
        "# Definir variable objetivo\n",
        "y = df[\"SalePrice\"]\n",
        "\n",
        "# Discretizar SalePrice en categorías (Binning)\n",
        "y_bins = pd.qcut(y, q=3, labels=[\"Bajo\", \"Medio\", \"Alto\"])\n",
        "\n",
        "# Eliminar SalePrice del conjunto de predictores\n",
        "numerical_features.remove(\"SalePrice\")\n",
        "X = df[numerical_features]\n",
        "\n",
        "# Manejar valores nulos llenando con la mediana\n",
        "X = X.fillna(X.median())\n",
        "\n",
        "# División de los datos en entrenamiento y prueba\n",
        "X_train, X_test, y_train, y_test = train_test_split(X, y_bins, test_size=0.2, random_state=42)\n",
        "\n",
        "# Modelo de Clasificación: Random Forest\n",
        "clf = RandomForestClassifier(n_estimators=100, random_state=42)\n",
        "clf.fit(X_train, y_train)\n",
        "\n",
        "# Predicciones\n",
        "y_pred = clf.predict(X_test)\n",
        "\n",
        "# Evaluación del modelo\n",
        "accuracy = accuracy_score(y_test, y_pred)\n",
        "print(f\"Precisión del modelo de Clasificación: {accuracy:.4f}\\n\")\n",
        "print(\"Reporte de Clasificación:\")\n",
        "print(classification_report(y_test, y_pred))\n",
        "\n",
        "# Matriz de confusión\n",
        "plt.figure(figsize=(6,5))\n",
        "cm = confusion_matrix(y_test, y_pred, labels=[\"Bajo\", \"Medio\", \"Alto\"])\n",
        "sns.heatmap(cm, annot=True, fmt=\"d\", cmap=\"Blues\", xticklabels=[\"Bajo\", \"Medio\", \"Alto\"], yticklabels=[\"Bajo\", \"Medio\", \"Alto\"])\n",
        "plt.xlabel(\"Predicción\")\n",
        "plt.ylabel(\"Real\")\n",
        "plt.title(\"Matriz de Confusión - Clasificación de Precios de Vivienda\")\n",
        "plt.show()\n"
      ]
    },
    {
      "cell_type": "markdown",
      "metadata": {
        "id": "pt1LEzyxZT0e"
      },
      "source": [
        "# **Evaluación de la Eficiencia del Algoritmo**\n",
        "\n",
        "El modelo de **Random Forest** fue probado con el conjunto de prueba y se evaluó su desempeño en términos de precisión y capacidad de clasificación.\n",
        "\n",
        "## **1. Precisión Global**\n",
        "- **Precisión del modelo:** `84.59%`\n",
        "- Esto significa que el modelo clasificó correctamente las viviendas en **aproximadamente 85 de cada 100 casos**.\n",
        "\n",
        "## **2. Análisis del Reporte de Clasificación**\n",
        "Las métricas clave del modelo son:\n",
        "- **Precisión (Precision):** Mide cuántas de las predicciones fueron correctas para cada categoría.\n",
        "- **Recall:** Indica cuántos de los valores reales fueron correctamente identificados.\n",
        "- **F1-score:** Es la media armónica entre precisión y recall.\n",
        "\n",
        "| Categoría | Precisión | Recall | F1-score | Soporte |\n",
        "|-----------|----------|--------|----------|---------|\n",
        "| **Alto**  | 92%      | 87%    | 90%      | 94      |\n",
        "| **Bajo**  | 86%      | 90%    | 88%      | 110     |\n",
        "| **Medio** | 75%      | 75%    | 75%      | 88      |\n",
        "| **Promedio general** | 85% | 85% | 85% | 292 |\n",
        "\n",
        "-  **La mejor categoría clasificada es `Alto` con un F1-score de 90%**.\n",
        "-  **La categoría `Medio` tiene la menor precisión (75%), lo que indica que el modelo tiene más dificultad en esta clase**.\n",
        "\n",
        "## **3. Interpretación de la Matriz de Confusión**\n",
        "-  **La diagonal principal muestra los casos correctamente clasificados.**\n",
        "-  **La mayoría de las casas `Bajo` fueron correctamente clasificadas (99 de 110).**\n",
        "-  **Las casas `Alto` también fueron bien clasificadas (82 de 94).**\n",
        "-  **El modelo tuvo más dificultades en `Medio`, ya que 16 casas de esta categoría fueron clasificadas erróneamente.**\n",
        "\n",
        "## **4. Conclusión**\n",
        "**El modelo de Random Forest logró una precisión del 85%, lo que indica que es un buen modelo para clasificar precios de viviendas.**  \n",
        " **Funciona especialmente bien en `Bajo` y `Alto`, pero tiene dificultades en `Medio`**.  "
      ]
    },
    {
      "cell_type": "markdown",
      "metadata": {},
      "source": [
        "# **6. Análisis de la Eficiencia del Modelo de Clasificación (Matriz de Confusión)**\n",
        "\n",
        "En este apartado se evalúa el desempeño del modelo de clasificación empleando una **matriz de confusión**, la cual permite visualizar de forma detallada dónde el algoritmo acierta y dónde se equivoca. Además, se analizan las clases más afectadas por los errores de predicción y se discute la importancia de dichos errores en el contexto del problema (por ejemplo, confundir una casa “Cara” con una “Barata” puede tener un mayor impacto que confundir “Media” con “Barata”). Finalmente, se presenta la **exactitud (accuracy)** global, así como métricas de precisión, exhaustividad (recall) y F1-score para cada clase, con el fin de determinar la eficacia y robustez del modelo en la clasificación de los distintos rangos de precios.\n"
      ]
    },
    {
      "cell_type": "code",
      "execution_count": 10,
      "metadata": {},
      "outputs": [
        {
          "data": {
            "image/png": "[encoded data removed]",
            "text/plain": [
              "<Figure size 500x400 with 2 Axes>"
            ]
          },
          "metadata": {},
          "output_type": "display_data"
        },
        {
          "name": "stdout",
          "output_type": "stream",
          "text": [
            "Exactitud (Accuracy) en PRUEBA: 0.7089\n",
            "\n",
            "Reporte de Clasificación (Test):\n",
            "              precision    recall  f1-score   support\n",
            "\n",
            "      Barata       0.65      0.96      0.78       110\n",
            "       Media       0.93      0.79      0.85        94\n",
            "        Cara       0.55      0.31      0.39        88\n",
            "\n",
            "    accuracy                           0.71       292\n",
            "   macro avg       0.71      0.69      0.67       292\n",
            "weighted avg       0.71      0.71      0.69       292\n",
            "\n"
          ]
        }
      ],
      "source": [
        "import pandas as pd\n",
        "import numpy as np\n",
        "\n",
        "import seaborn as sns\n",
        "import matplotlib.pyplot as plt\n",
        "\n",
        "from sklearn.model_selection import train_test_split\n",
        "from sklearn.naive_bayes import GaussianNB\n",
        "from sklearn.metrics import confusion_matrix, classification_report, accuracy_score\n",
        "\n",
        "df = pd.read_csv(\"train.csv\")\n",
        "\n",
        "numerical_features = df.select_dtypes(include=[np.number]).columns.tolist()\n",
        "\n",
        "if \"Id\" in numerical_features:\n",
        "    numerical_features.remove(\"Id\")\n",
        "\n",
        "numerical_features.remove(\"SalePrice\")\n",
        "\n",
        "X = df[numerical_features].copy()\n",
        "X = X.fillna(X.median()) \n",
        "\n",
        "y_class = pd.qcut(df[\"SalePrice\"], q=3, labels=[\"Barata\", \"Media\", \"Cara\"])\n",
        "\n",
        "\n",
        "X_train_clf, X_test_clf, y_train_clf, y_test_clf = train_test_split(\n",
        "    X, y_class, test_size=0.2, random_state=42\n",
        ")\n",
        "\n",
        "nb_classifier = GaussianNB()\n",
        "nb_classifier.fit(X_train_clf, y_train_clf)\n",
        "\n",
        "y_pred_test_clf = nb_classifier.predict(X_test_clf)\n",
        "\n",
        "etiquetas = [\"Barata\", \"Media\", \"Cara\"]  # Orden para la matriz de confusión\n",
        "\n",
        "# 1) Calcular la matriz de confusión\n",
        "cm = confusion_matrix(y_test_clf, y_pred_test_clf, labels=etiquetas)\n",
        "\n",
        "# 2) Visualizar en forma de heatmap\n",
        "plt.figure(figsize=(5,4))\n",
        "sns.heatmap(cm, annot=True, fmt=\"d\", cmap=\"Blues\",\n",
        "            xticklabels=etiquetas, yticklabels=etiquetas)\n",
        "plt.xlabel(\"Predicción\")\n",
        "plt.ylabel(\"Real\")\n",
        "plt.title(\"Matriz de Confusión - Naive Bayes (Clasificación)\")\n",
        "plt.show()\n",
        "\n",
        "# 3) Métricas de desempeño\n",
        "accuracy_test = accuracy_score(y_test_clf, y_pred_test_clf)\n",
        "print(f\"Exactitud (Accuracy) en PRUEBA: {accuracy_test:.4f}\\n\")\n",
        "\n",
        "print(\"Reporte de Clasificación (Test):\")\n",
        "print(classification_report(y_test_clf, y_pred_test_clf, target_names=etiquetas))\n",
        "\n",
        "\n"
      ]
    },
    {
      "cell_type": "markdown",
      "metadata": {},
      "source": [
        "## **Interpretación de la Matriz de Confusión y Métricas**\n",
        "\n",
        "1. **Exactitud Global**  \n",
        "   - El modelo alcanza una exactitud (accuracy) de aproximadamente **0.7089**.  \n",
        "   - Esto significa que, en promedio, acierta el rango de precio (“Barata”, “Media” o “Cara”) en un **70.89%** de los casos del conjunto de prueba.\n",
        "\n",
        "2. **Desempeño por Clase**  \n",
        "   - **Barata**  \n",
        "     - *Recall = 0.96*: De todas las casas realmente “Baratas”, el modelo identifica correctamente el 96%.  \n",
        "     - *Precision = 0.65*: Cuando el modelo predice “Barata”, acierta un 65% de las veces.  \n",
        "     - El alto *recall* indica que el modelo casi siempre etiqueta correctamente las viviendas baratas, pero la *precision* moderada sugiere que, en ocasiones, también clasifica como “Barata” a casas que no lo son.\n",
        "   - **Media**  \n",
        "     - *Precision = 0.93*: Cada vez que el modelo predice “Media”, acierta en el 93% de los casos.  \n",
        "     - *Recall = 0.79*: De las casas realmente “Medias”, el 79% son clasificadas correctamente.  \n",
        "     - En general, el modelo maneja bien la categoría “Media”, aunque deja escapar alrededor del 21% de casos que deberían ser “Media” pero no se etiquetan así.\n",
        "   - **Cara**  \n",
        "     - *Precision = 0.55* y *Recall = 0.31*: Este es el peor desempeño. El modelo identifica menos de un tercio de las casas realmente caras (bajo recall) y cuando predice “Cara” solo acierta un 55% de las veces (precision).  \n",
        "     - El modelo tiende a confundir las viviendas caras con otras categorías, especialmente con “Barata” según la matriz de confusión.\n",
        "\n",
        "3. **Análisis de la Matriz de Confusión**  \n",
        "   - Observamos que en la fila de “Cara” real hay una cantidad significativa de casos etiquetados como “Barata”.  \n",
        "   - También, en la fila de “Media” real, se ve un número notable de instancias clasificadas como “Barata”.  \n",
        "   - Esto sugiere que el modelo, en general, se inclina con más frecuencia a predecir “Barata” cuando está en duda, afectando la clasificación de las otras categorías.\n",
        "\n",
        "4. **Conclusiones y Posibles Mejores**  \n",
        "   - El modelo es razonablemente bueno en “Barata” y “Media” (sobre todo en identificar la mayoría de casas baratas y ser muy preciso en las medias), pero **fracasa con la categoría “Cara”**.  \n",
        "   - Es probable que exista un **desbalance** en la cantidad de ejemplos de cada categoría o que las características que diferencian “Media” de “Cara” no estén siendo bien capturadas.  \n",
        "   - Para mejorar:\n",
        "     - **Recolección de más datos** o **reajuste de las categorías**.  \n",
        "     - **Técnicas de balanceo** de clases si la categoría “Cara” es muy minoritaria.  \n",
        "     - **Tuneo de hiperparámetros** (por ejemplo, `var_smoothing` en `GaussianNB`).  \n",
        "     - **Más preprocesamiento** (variables categóricas, ingeniería de características, etc.).\n",
        "\n",
        "En resumen, la **exactitud global** es aceptable (70.89%), pero el modelo **confunde** muchas viviendas “Cara” con otras categorías, lo que reduce su eficacia en ese rango de precios.\n"
      ]
    },
    {
      "cell_type": "markdown",
      "metadata": {},
      "source": [
        "# **7. Análisis de Sobreajuste**\n",
        "\n",
        "En este apartado se compara el desempeño del modelo de clasificación en el conjunto de entrenamiento y en el de prueba. El objetivo es identificar si el modelo presenta sobreajuste (overfitting), es decir, si está aprendiendo demasiado los detalles y el ruido del conjunto de entrenamiento, lo que se reflejaría en un rendimiento significativamente mejor en entrenamiento que en prueba.\n"
      ]
    },
    {
      "cell_type": "code",
      "execution_count": 12,
      "metadata": {},
      "outputs": [
        {
          "name": "stdout",
          "output_type": "stream",
          "text": [
            "=== Análisis de Sobreajuste ===\n",
            "Exactitud en Entrenamiento: 0.6781\n",
            "Exactitud en Prueba:        0.7089\n",
            "Diferencia entre Train y Test: -0.0308\n"
          ]
        }
      ],
      "source": [
        "from sklearn.model_selection import train_test_split\n",
        "from sklearn.naive_bayes import GaussianNB\n",
        "from sklearn.metrics import accuracy_score\n",
        "\n",
        "# ---------------------------------------------------------------------\n",
        "# EJEMPLO DE DATOS: AJUSTA A TU CASO\n",
        "# ---------------------------------------------------------------------\n",
        "# Supongamos que ya tienes un DataFrame 'df' y has definido\n",
        "# X (características) y y_class (variable categórica) así:\n",
        "\n",
        "# X = df.drop(columns=[\"SalePrice\",\"Id\"]).fillna(...)  # Ejemplo\n",
        "# y_class = pd.qcut(df[\"SalePrice\"], q=3, labels=[\"Barata\",\"Media\",\"Cara\"])\n",
        "\n",
        "# Si no lo has hecho, hazlo antes de este bloque de código.\n",
        "\n",
        "# ---------------------------------------------------------------------\n",
        "# DIVIDIR EN ENTRENAMIENTO Y PRUEBA\n",
        "# ---------------------------------------------------------------------\n",
        "X_train_clf, X_test_clf, y_train_clf, y_test_clf = train_test_split(\n",
        "    X, y_class, test_size=0.2, random_state=42\n",
        ")\n",
        "\n",
        "# ---------------------------------------------------------------------\n",
        "# ENTRENAR EL MODELO (Naive Bayes) Y PREDECIR\n",
        "# ---------------------------------------------------------------------\n",
        "nb_classifier = GaussianNB()\n",
        "nb_classifier.fit(X_train_clf, y_train_clf)\n",
        "\n",
        "# Predicción en ENTRENAMIENTO\n",
        "y_pred_train_clf = nb_classifier.predict(X_train_clf)\n",
        "\n",
        "# Predicción en PRUEBA\n",
        "y_pred_test_clf = nb_classifier.predict(X_test_clf)\n",
        "\n",
        "# ---------------------------------------------------------------------\n",
        "# PUNTO 7: ANÁLISIS DE SOBREAJUSTE\n",
        "# ---------------------------------------------------------------------\n",
        "acc_train = accuracy_score(y_train_clf, y_pred_train_clf)\n",
        "acc_test  = accuracy_score(y_test_clf,  y_pred_test_clf)\n",
        "\n",
        "print(\"=== Análisis de Sobreajuste ===\")\n",
        "print(f\"Exactitud en Entrenamiento: {acc_train:.4f}\")\n",
        "print(f\"Exactitud en Prueba:        {acc_test:.4f}\")\n",
        "\n",
        "diferencia = acc_train - acc_test\n",
        "print(f\"Diferencia entre Train y Test: {diferencia:.4f}\")"
      ]
    },
    {
      "cell_type": "markdown",
      "metadata": {},
      "source": [
        "Los valores reportados son:\n",
        "- **Exactitud en Entrenamiento**: 0.6781  \n",
        "- **Exactitud en Prueba**: 0.7089  \n",
        "- **Diferencia (Train - Test)**: -0.0308  \n",
        "\n",
        "En este caso, el modelo obtiene una exactitud ligeramente **mayor** en el conjunto de **prueba** que en el de entrenamiento (0.7089 vs. 0.6781). Esto no sugiere sobreajuste, sino más bien podría indicar:\n",
        "\n",
        "1. **Posible subajuste (underfitting)** o una leve variación estadística, donde el modelo no termina de ajustar del todo a los datos de entrenamiento, pero por algún factor rinde algo mejor en el test.  \n",
        "2. **Distribución diferente** o un conjunto de prueba que, en este caso, resulta un poco más “fácil” para el modelo.  \n",
        "\n",
        "Lo importante es que **no** hay evidencia de que el modelo se haya sobreajustado, dado que no presenta un rendimiento muy superior en entrenamiento respecto al de prueba. Si quieres refinar más, podrías:\n",
        "- Probar un **conjunto de validación** adicional o usar **validación cruzada** (cross-validation).  \n",
        "- Ajustar hiperparámetros o añadir más características relevantes para evitar un posible subajuste."
      ]
    }
  ],
  "metadata": {
    "colab": {
      "provenance": []
    },
    "kernelspec": {
      "display_name": "Python 3",
      "name": "python3"
    },
    "language_info": {
      "codemirror_mode": {
        "name": "ipython",
        "version": 3
      },
      "file_extension": ".py",
      "mimetype": "text/x-python",
      "name": "python",
      "nbconvert_exporter": "python",
      "pygments_lexer": "ipython3",
      "version": "3.11.5"
    }
  },
  "nbformat": 4,
  "nbformat_minor": 0
}
