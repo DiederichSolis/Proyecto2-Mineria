{
 "cells": [
  {
   "cell_type": "markdown",
   "id": "53128aae",
   "metadata": {},
   "source": [
    "# Punto 1: Creación de Variables Dicotómicas\n",
    "\n",
    "**Enunciado:**  \n",
    "Se debe crear una variable dicotómica para cada una de las categorías de la variable respuesta categórica que se definió en hojas anteriores. Es decir, se deben generar tres nuevas variables (con valores 0 y 1) que indiquen si una vivienda es:\n",
    "- **Cara o no:** Una variable que tome el valor 1 si la vivienda se clasifica como \"cara\" y 0 en caso contrario.\n",
    "- **Media o no:** Una variable que indique si la vivienda se encuentra en la categoría \"media\" (por ejemplo, en el tercil intermedio) y 0 si no lo es.\n",
    "- **Económica o no:** Una variable que tome el valor 1 si la vivienda es \"económica\" (por ejemplo, en el tercil inferior) y 0 en caso contrario.\n",
    "\n",
    "\n"
   ]
  },
  {
   "cell_type": "code",
   "execution_count": null,
   "id": "4b6e6a38",
   "metadata": {},
   "outputs": [
    {
     "name": "stdout",
     "output_type": "stream",
     "text": [
      "✔ Dummies creadas y archivo guardado.\n",
      "   SalePrice cat_price  is_barata  is_media  is_cara\n",
      "0     208500      cara          0         0        1\n",
      "1     181500     media          0         1        0\n",
      "2     223500      cara          0         0        1\n",
      "3     140000     media          0         1        0\n",
      "4     250000      cara          0         0        1\n"
     ]
    }
   ],
   "source": [
    "from pathlib import Path\n",
    "import pandas as pd, numpy as np, joblib\n",
    "\n",
    "# cargar datos\n",
    "df = pd.read_csv('train.csv')              # <-- ruta al archivo base\n",
    "\n",
    "# calcular terciles y categorías\n",
    "q1, q2 = df['SalePrice'].quantile([.33, .66])\n",
    "\n",
    "def categoria(p):\n",
    "    if p <= q1:       return 'barata'\n",
    "    elif p <= q2:     return 'media'\n",
    "    else:             return 'cara'\n",
    "\n",
    "df['cat_price'] = df['SalePrice'].apply(categoria)\n",
    "df['is_barata'] = (df['cat_price'] == 'barata').astype(int)\n",
    "df['is_media']  = (df['cat_price'] == 'media' ).astype(int)\n",
    "df['is_cara']   = (df['cat_price'] == 'cara'  ).astype(int)\n",
    "\n",
    "Path(\"data\").mkdir(parents=True, exist_ok=True)\n",
    "\n",
    "# guardar dataset y puntos de corte\n",
    "df.to_csv('data/train_cat.csv', index=False)\n",
    "joblib.dump({'q1': q1, 'q2': q2}, 'data/cut_points.joblib')\n",
    "\n",
    "print(\"✔ Dummies creadas y archivo guardado.\")\n",
    "print(df[['SalePrice','cat_price','is_barata','is_media','is_cara']].head())\n"
   ]
  },
  {
   "cell_type": "markdown",
   "id": "13ba9907",
   "metadata": {},
   "source": [
    "El criterio de clasificación puede basarse en los terciles o percentiles del valor de la vivienda (por ejemplo, la variable `SalePrice`).\n",
    "\n",
    "**Interpretación de Resultados:**  \n",
    "- **Variable `is_cara`:** Indica que una vivienda se considera cara cuando su precio se encuentra en el tercil superior. Un valor de 1 implica que la propiedad tiene un precio alto, mientras que 0 indica lo contrario.\n",
    "- **Variable `is_media`:** Indica que una vivienda está en una categoría de precio intermedia (típicamente, el tercil medio). Un 1 en esta variable significa que la propiedad no es ni cara ni económica, sino que se ubica en un rango intermedio.\n",
    "- **Variable `is_economica` (o `is_barata`):** Señala que una vivienda es económica cuando su precio está en el tercil inferior. Un valor de 1 significa que la propiedad se clasifica como de bajo costo, lo que puede estar vinculado a características específicas o a ubicaciones menos privilegiadas.\n",
    "\n",
    "El uso de estas variables dicotómicas facilita la aplicación de modelos de clasificación en entregas posteriores, permitiendo analizar y comparar el desempeño de distintos algoritmos (por ejemplo, Regresión Logística, Árboles de Decisión, Random Forest, etc.) con base en categorías bien definidas del precio de la vivienda. Además, estas variables ayudan a identificar qué características influyen en el precio y a plantear estrategias específicas en el sector inmobiliario."
   ]
  },
  {
   "cell_type": "markdown",
   "id": "756cab2b",
   "metadata": {},
   "source": [
    "# Punto 2: Uso de los mismos conjuntos de entrenamiento y prueba\n",
    "\n",
    "**Enunciado:**  \n",
    "Se deben utilizar los mismos conjuntos de entrenamiento y prueba (train/test) que se definieron en las hojas anteriores. Esto permite asegurar la reproducibilidad de los experimentos y la coherencia en las comparaciones de rendimiento entre distintos modelos y pasos del proyecto.\n"
   ]
  },
  {
   "cell_type": "code",
   "execution_count": 6,
   "id": "e63e5177",
   "metadata": {},
   "outputs": [
    {
     "name": "stdout",
     "output_type": "stream",
     "text": [
      "Splits guardados – reproducibles.\n"
     ]
    }
   ],
   "source": [
    "import pandas as pd, joblib\n",
    "from sklearn.model_selection import train_test_split\n",
    "SEED = 221087\n",
    "df = pd.read_csv('data/train_cat.csv')\n",
    "\n",
    "y = df['is_cara']                                   # objetivo dicotómico\n",
    "X = df.drop(columns=['SalePrice','cat_price',\n",
    "                     'is_barata','is_media','is_cara'])\n",
    "\n",
    "X_train, X_test, y_train, y_test = train_test_split(\n",
    "    X, y, test_size=0.2, random_state=SEED, stratify=y)\n",
    "\n",
    "joblib.dump((X_train,X_test,y_train,y_test),'data/splits.joblib')\n",
    "print(\"Splits guardados – reproducibles.\")\n"
   ]
  },
  {
   "cell_type": "markdown",
   "id": "5aa72192",
   "metadata": {},
   "source": [
    "**Interpretación de Resultados:**  \n",
    "- **Consistencia de la Evaluación:** Al emplear exactamente los mismos datos de entrenamiento y de prueba en cada modelo, se logra comparar de forma justa (fair comparison) los distintos enfoques de clasificación.  \n",
    "- **Reproducibilidad:** Fijar una semilla (por ejemplo, `SEED = 221087`) y utilizar la misma partición asegura que, cada vez que se ejecuta el script, se obtenga el mismo `X_train`, `X_test`, `y_train`, `y_test`. Esto facilita depurar errores, compartir resultados y garantizar que el comportamiento de los modelos no varíe por cambios accidentales en los datos.  \n",
    "- **Enfoque Científico:** Mantener los mismos conjuntos de entrenamiento y prueba es clave para la validez de los experimentos de minería de datos y aprendizaje automático, ya que se aísla la evaluación de los modelos de factores externos y se reduce el riesgo de sobreajuste o de sesgos en la división de los datos.  \n",
    "\n",
    "En esta etapa, simplemente confirmamos y documentamos el uso de la misma partición que se estableció en las hojas anteriores para todos los modelos subsecuentes."
   ]
  },
  {
   "cell_type": "markdown",
   "id": "3212183a",
   "metadata": {},
   "source": [
    "# Punto 3: Modelo de Regresión Logística para determinar si una vivienda es cara o no\n",
    "\n",
    "**Enunciado:**  \n",
    "Se debe elaborar un modelo de Regresión Logística para predecir si una vivienda es \"cara\" (es decir, si `is_cara == 1`). El entrenamiento debe realizarse únicamente con el conjunto de entrenamiento establecido y debe incluir:\n",
    "1. Un pipeline de preprocesamiento (por ejemplo, imputación de datos faltantes y/o escalado).\n",
    "2. Una etapa de validación cruzada para estimar la capacidad de generalización del modelo.\n",
    "3. La fijación de la semilla y la partición de los datos para garantizar que el experimento sea reproducible.\n",
    "\n"
   ]
  },
  {
   "cell_type": "code",
   "execution_count": null,
   "id": "b365dd15",
   "metadata": {},
   "outputs": [
    {
     "name": "stdout",
     "output_type": "stream",
     "text": [
      "Exactitud CV por fold: [0.923 0.902 0.932 0.931 0.91 ] | Media: 0.920\n",
      "✔ Modelo guardado en models/logit_cara.joblib\n"
     ]
    }
   ],
   "source": [
    "from pathlib import Path\n",
    "import numpy as np\n",
    "import pandas as pd\n",
    "import joblib\n",
    "\n",
    "from sklearn.pipeline import Pipeline\n",
    "from sklearn.compose import ColumnTransformer\n",
    "from sklearn.impute import SimpleImputer\n",
    "from sklearn.preprocessing import StandardScaler, OneHotEncoder\n",
    "from sklearn.linear_model import LogisticRegression\n",
    "from sklearn.model_selection import StratifiedKFold, cross_val_score\n",
    "\n",
    "SEED = 221087\n",
    "\n",
    "X_train, X_test, y_train, y_test = joblib.load('data/splits.joblib')\n",
    "\n",
    "# columnas numéricas y categóricas\n",
    "num_cols = X_train.select_dtypes(include=['int64', 'float64']).columns\n",
    "cat_cols = X_train.select_dtypes(exclude=['int64', 'float64']).columns\n",
    "\n",
    "# Pipelines de pre‑proceso\n",
    "num_pipe = Pipeline([\n",
    "    ('imputer', SimpleImputer(strategy='median')),\n",
    "    ('scaler',  StandardScaler())\n",
    "])\n",
    "\n",
    "cat_pipe = Pipeline([\n",
    "    ('imputer', SimpleImputer(strategy='most_frequent')),\n",
    "    ('onehot',  OneHotEncoder(handle_unknown='ignore'))\n",
    "])\n",
    "\n",
    "prepro = ColumnTransformer([\n",
    "    ('num', num_pipe, num_cols),\n",
    "    ('cat', cat_pipe, cat_cols)\n",
    "])\n",
    "\n",
    "# Modelo de Regresión Logística\n",
    "logit = LogisticRegression(max_iter=1000, random_state=SEED)\n",
    "\n",
    "pipe = Pipeline([\n",
    "    ('prep', prepro),\n",
    "    ('clf',  logit)\n",
    "])\n",
    "\n",
    "# Validación cruzada estratificada (5‑fold)\n",
    "cv = StratifiedKFold(n_splits=5, shuffle=True, random_state=SEED)\n",
    "scores = cross_val_score(pipe, X_train, y_train, cv=cv, scoring='accuracy')\n",
    "\n",
    "print(f\"Exactitud CV por fold: {np.round(scores, 3)} | Media: {scores.mean():.3f}\")\n",
    "pipe.fit(X_train, y_train)\n",
    "\n",
    "# Guardar el modelo entrenado\n",
    "Path('models').mkdir(parents=True, exist_ok=True)\n",
    "joblib.dump(pipe, 'models/logit_cara.joblib')\n",
    "print(\"✔ Modelo guardado en models/logit_cara.joblib\")\n"
   ]
  },
  {
   "cell_type": "markdown",
   "id": "853177e7",
   "metadata": {},
   "source": [
    "Una vez entrenado el modelo, se debe explicar brevemente los resultados a los que se llega (por ejemplo, el valor de la métrica de validación cruzada). El objetivo es que, cada vez que se ejecute el código, se utilicen los mismos conjuntos de entrenamiento y prueba, y se obtengan resultados consistentes.\n",
    "\n",
    "**Interpretación de Resultados:**  \n",
    "- **Entrenamiento y Pipeline:** El modelo de Regresión Logística aprende, a partir de las variables predictoras (features), la probabilidad de que una vivienda sea cara (clase positiva). Mediante la combinación de imputación y escalado, se normalizan los datos para estabilizar los coeficientes y facilitar la convergencia del algoritmo.\n",
    "- **Validación Cruzada:** Al usar una técnica como k‑fold (por ejemplo, con 5 pliegues), se obtiene una mejor aproximación de la capacidad de generalización del modelo, reduciendo la dependencia de una sola partición. Se presentan métricas como el accuracy promedio y la desviación estándar entre pliegues.\n",
    "- **Reproducibilidad:** Fijar la semilla y emplear los mismos splits de entrenamiento y prueba permite que cualquier persona que ejecute el código obtenga los mismos resultados, lo cual es esencial para la robustez de la investigación.\n",
    "- **Rendimiento y Métricas:** Si, por ejemplo, la validación cruzada arroja una exactitud promedio de 0.85 con una desviación de 0.02, esto significa que el modelo acierta en un 85 % de los casos, en promedio, al determinar si una vivienda es cara o no. Esta métrica puede complementarse con ROC AUC, precisión (precision), exhaustividad (recall) y otras para profundizar en la evaluación.\n",
    "- **Almacenamiento del Modelo:** Guardar el modelo (por ejemplo, en un archivo `.joblib`) tras entrenarlo facilita su uso posterior para la etapa de predicción o para su integración con otros sistemas, sin tener que reentrenarlo cada vez.\n",
    "\n",
    "Con esto se logra un modelo capaz de distinguir entre viviendas caras y no caras, fundamentado en un proceso reproducible y validado, lo cual proporciona la base para escalas mayores o proyectos posteriores en el área de minería de datos y aprendizaje automático."
   ]
  },
  {
   "cell_type": "markdown",
   "id": "b05cab5e",
   "metadata": {},
   "source": [
    "# Punto 4: Análisis del Modelo y Detección de Multicolinealidad\n",
    "\n",
    "**Enunciado:**  \n",
    "1. Analizar el modelo entrenado previamente para determinar:\n",
    "   - Si existe multicolinealidad en las variables.\n",
    "   - Cuáles variables aportan significativamente al modelo (con base en su p‑value, VIF, etc.).\n",
    "   - La correlación existente entre las variables usadas en el modelo.\n",
    "2. Especificar si el modelo se adapta bien a los datos, basándose en medidas como el R‑cuadrado pseudo, log‑likelihood o en el comportamiento de los coeficientes.\n"
   ]
  },
  {
   "cell_type": "code",
   "execution_count": null,
   "id": "141229a6",
   "metadata": {},
   "outputs": [
    {
     "name": "stdout",
     "output_type": "stream",
     "text": [
      "Rango inicial de la matriz (incl. constante): 239 de 243 columnas\n"
     ]
    },
    {
     "name": "stderr",
     "output_type": "stream",
     "text": [
      "c:\\Users\\DELL I7\\AppData\\Local\\Programs\\Python\\Python311\\Lib\\site-packages\\statsmodels\\stats\\outliers_influence.py:197: RuntimeWarning: divide by zero encountered in scalar divide\n",
      "  vif = 1. / (1. - r_squared_i)\n",
      "c:\\Users\\DELL I7\\AppData\\Local\\Programs\\Python\\Python311\\Lib\\site-packages\\statsmodels\\stats\\outliers_influence.py:197: RuntimeWarning: divide by zero encountered in scalar divide\n",
      "  vif = 1. / (1. - r_squared_i)\n",
      "c:\\Users\\DELL I7\\AppData\\Local\\Programs\\Python\\Python311\\Lib\\site-packages\\statsmodels\\stats\\outliers_influence.py:197: RuntimeWarning: divide by zero encountered in scalar divide\n",
      "  vif = 1. / (1. - r_squared_i)\n",
      "c:\\Users\\DELL I7\\AppData\\Local\\Programs\\Python\\Python311\\Lib\\site-packages\\statsmodels\\stats\\outliers_influence.py:197: RuntimeWarning: divide by zero encountered in scalar divide\n",
      "  vif = 1. / (1. - r_squared_i)\n",
      "c:\\Users\\DELL I7\\AppData\\Local\\Programs\\Python\\Python311\\Lib\\site-packages\\statsmodels\\stats\\outliers_influence.py:197: RuntimeWarning: divide by zero encountered in scalar divide\n",
      "  vif = 1. / (1. - r_squared_i)\n",
      "c:\\Users\\DELL I7\\AppData\\Local\\Programs\\Python\\Python311\\Lib\\site-packages\\statsmodels\\stats\\outliers_influence.py:197: RuntimeWarning: divide by zero encountered in scalar divide\n",
      "  vif = 1. / (1. - r_squared_i)\n",
      "c:\\Users\\DELL I7\\AppData\\Local\\Programs\\Python\\Python311\\Lib\\site-packages\\statsmodels\\stats\\outliers_influence.py:197: RuntimeWarning: divide by zero encountered in scalar divide\n",
      "  vif = 1. / (1. - r_squared_i)\n",
      "c:\\Users\\DELL I7\\AppData\\Local\\Programs\\Python\\Python311\\Lib\\site-packages\\statsmodels\\stats\\outliers_influence.py:197: RuntimeWarning: divide by zero encountered in scalar divide\n",
      "  vif = 1. / (1. - r_squared_i)\n",
      "c:\\Users\\DELL I7\\AppData\\Local\\Programs\\Python\\Python311\\Lib\\site-packages\\statsmodels\\stats\\outliers_influence.py:197: RuntimeWarning: divide by zero encountered in scalar divide\n",
      "  vif = 1. / (1. - r_squared_i)\n",
      "c:\\Users\\DELL I7\\AppData\\Local\\Programs\\Python\\Python311\\Lib\\site-packages\\statsmodels\\stats\\outliers_influence.py:197: RuntimeWarning: divide by zero encountered in scalar divide\n",
      "  vif = 1. / (1. - r_squared_i)\n",
      "c:\\Users\\DELL I7\\AppData\\Local\\Programs\\Python\\Python311\\Lib\\site-packages\\statsmodels\\stats\\outliers_influence.py:197: RuntimeWarning: divide by zero encountered in scalar divide\n",
      "  vif = 1. / (1. - r_squared_i)\n",
      "c:\\Users\\DELL I7\\AppData\\Local\\Programs\\Python\\Python311\\Lib\\site-packages\\statsmodels\\stats\\outliers_influence.py:197: RuntimeWarning: divide by zero encountered in scalar divide\n",
      "  vif = 1. / (1. - r_squared_i)\n"
     ]
    },
    {
     "name": "stdout",
     "output_type": "stream",
     "text": [
      "Dropping column 'BsmtFinSF1' (VIF: inf) due to singularity.\n"
     ]
    },
    {
     "name": "stderr",
     "output_type": "stream",
     "text": [
      "c:\\Users\\DELL I7\\AppData\\Local\\Programs\\Python\\Python311\\Lib\\site-packages\\statsmodels\\stats\\outliers_influence.py:197: RuntimeWarning: divide by zero encountered in scalar divide\n",
      "  vif = 1. / (1. - r_squared_i)\n",
      "c:\\Users\\DELL I7\\AppData\\Local\\Programs\\Python\\Python311\\Lib\\site-packages\\statsmodels\\stats\\outliers_influence.py:197: RuntimeWarning: divide by zero encountered in scalar divide\n",
      "  vif = 1. / (1. - r_squared_i)\n",
      "c:\\Users\\DELL I7\\AppData\\Local\\Programs\\Python\\Python311\\Lib\\site-packages\\statsmodels\\stats\\outliers_influence.py:197: RuntimeWarning: divide by zero encountered in scalar divide\n",
      "  vif = 1. / (1. - r_squared_i)\n",
      "c:\\Users\\DELL I7\\AppData\\Local\\Programs\\Python\\Python311\\Lib\\site-packages\\statsmodels\\stats\\outliers_influence.py:197: RuntimeWarning: divide by zero encountered in scalar divide\n",
      "  vif = 1. / (1. - r_squared_i)\n",
      "c:\\Users\\DELL I7\\AppData\\Local\\Programs\\Python\\Python311\\Lib\\site-packages\\statsmodels\\stats\\outliers_influence.py:197: RuntimeWarning: divide by zero encountered in scalar divide\n",
      "  vif = 1. / (1. - r_squared_i)\n",
      "c:\\Users\\DELL I7\\AppData\\Local\\Programs\\Python\\Python311\\Lib\\site-packages\\statsmodels\\stats\\outliers_influence.py:197: RuntimeWarning: divide by zero encountered in scalar divide\n",
      "  vif = 1. / (1. - r_squared_i)\n",
      "c:\\Users\\DELL I7\\AppData\\Local\\Programs\\Python\\Python311\\Lib\\site-packages\\statsmodels\\stats\\outliers_influence.py:197: RuntimeWarning: divide by zero encountered in scalar divide\n",
      "  vif = 1. / (1. - r_squared_i)\n",
      "c:\\Users\\DELL I7\\AppData\\Local\\Programs\\Python\\Python311\\Lib\\site-packages\\statsmodels\\stats\\outliers_influence.py:197: RuntimeWarning: divide by zero encountered in scalar divide\n",
      "  vif = 1. / (1. - r_squared_i)\n"
     ]
    },
    {
     "name": "stdout",
     "output_type": "stream",
     "text": [
      "Dropping column '1stFlrSF' (VIF: inf) due to singularity.\n"
     ]
    },
    {
     "name": "stderr",
     "output_type": "stream",
     "text": [
      "c:\\Users\\DELL I7\\AppData\\Local\\Programs\\Python\\Python311\\Lib\\site-packages\\statsmodels\\stats\\outliers_influence.py:197: RuntimeWarning: divide by zero encountered in scalar divide\n",
      "  vif = 1. / (1. - r_squared_i)\n",
      "c:\\Users\\DELL I7\\AppData\\Local\\Programs\\Python\\Python311\\Lib\\site-packages\\statsmodels\\stats\\outliers_influence.py:197: RuntimeWarning: divide by zero encountered in scalar divide\n",
      "  vif = 1. / (1. - r_squared_i)\n",
      "c:\\Users\\DELL I7\\AppData\\Local\\Programs\\Python\\Python311\\Lib\\site-packages\\statsmodels\\stats\\outliers_influence.py:197: RuntimeWarning: divide by zero encountered in scalar divide\n",
      "  vif = 1. / (1. - r_squared_i)\n",
      "c:\\Users\\DELL I7\\AppData\\Local\\Programs\\Python\\Python311\\Lib\\site-packages\\statsmodels\\stats\\outliers_influence.py:197: RuntimeWarning: divide by zero encountered in scalar divide\n",
      "  vif = 1. / (1. - r_squared_i)\n"
     ]
    },
    {
     "name": "stdout",
     "output_type": "stream",
     "text": [
      "Dropping column 'Exterior1st_CBlock' (VIF: inf) due to singularity.\n"
     ]
    },
    {
     "name": "stderr",
     "output_type": "stream",
     "text": [
      "c:\\Users\\DELL I7\\AppData\\Local\\Programs\\Python\\Python311\\Lib\\site-packages\\statsmodels\\stats\\outliers_influence.py:197: RuntimeWarning: divide by zero encountered in scalar divide\n",
      "  vif = 1. / (1. - r_squared_i)\n",
      "c:\\Users\\DELL I7\\AppData\\Local\\Programs\\Python\\Python311\\Lib\\site-packages\\statsmodels\\stats\\outliers_influence.py:197: RuntimeWarning: divide by zero encountered in scalar divide\n",
      "  vif = 1. / (1. - r_squared_i)\n"
     ]
    },
    {
     "name": "stdout",
     "output_type": "stream",
     "text": [
      "Dropping column 'BsmtCond_Po' (VIF: inf) due to singularity.\n",
      "Rango final de la matriz: 239 de 239 columnas\n"
     ]
    },
    {
     "name": "stderr",
     "output_type": "stream",
     "text": [
      "c:\\Users\\DELL I7\\AppData\\Local\\Programs\\Python\\Python311\\Lib\\site-packages\\statsmodels\\discrete\\discrete_model.py:2385: RuntimeWarning: overflow encountered in exp\n",
      "  return 1/(1+np.exp(-X))\n",
      "c:\\Users\\DELL I7\\AppData\\Local\\Programs\\Python\\Python311\\Lib\\site-packages\\statsmodels\\discrete\\discrete_model.py:2443: RuntimeWarning: divide by zero encountered in log\n",
      "  return np.sum(np.log(self.cdf(q * linpred)))\n"
     ]
    },
    {
     "name": "stdout",
     "output_type": "stream",
     "text": [
      "Ajuste exitoso usando método 'lbfgs'.\n",
      "✔ Resultados guardados en 'tables/logit_coeffs_pvalues.csv'\n",
      "✔ VIF guardado en 'tables/vif_logit.csv'\n",
      "✔ Matriz de correlación guardada en 'tables/corr_numeric.csv'\n",
      "\n",
      "Top‑10 variables más significativas (ordenadas por p‑value ascendente):\n",
      "                   Coef.  P>|z|\n",
      "const                0.0    1.0\n",
      "ExterCond_TA         0.0    1.0\n",
      "Foundation_CBlock    0.0    1.0\n",
      "Foundation_PConc     0.0    1.0\n",
      "Foundation_Slab      0.0    1.0\n",
      "Foundation_Stone     0.0    1.0\n",
      "Foundation_Wood      0.0    1.0\n",
      "BsmtQual_Fa          0.0    1.0\n",
      "BsmtQual_Gd          0.0    1.0\n",
      "BsmtQual_TA          0.0    1.0\n",
      "\n",
      "Top‑10 VIF más altos:\n",
      "                 feature           VIF\n",
      "0                  const  3.362789e+06\n",
      "215        GarageCond_TA  2.136384e+02\n",
      "211        GarageQual_TA  2.043732e+02\n",
      "104      RoofStyle_Gable  1.367854e+02\n",
      "106        RoofStyle_Hip  1.261288e+02\n",
      "125  Exterior1st_VinylSd  1.173327e+02\n",
      "140  Exterior2nd_VinylSd  1.043268e+02\n",
      "121  Exterior1st_MetalSd  7.946753e+01\n",
      "38           MSZoning_RL  7.720506e+01\n",
      "109     RoofMatl_CompShg  7.604156e+01\n"
     ]
    }
   ],
   "source": [
    "from pathlib import Path\n",
    "import joblib, pandas as pd, numpy as np\n",
    "import statsmodels.api as sm\n",
    "from statsmodels.stats.outliers_influence import variance_inflation_factor\n",
    "from sklearn.impute import SimpleImputer\n",
    "\n",
    "# Función auxiliar para eliminar columnas que causen colinealidad\n",
    "def get_full_rank_columns(X):\n",
    "    cols = list(X.columns)\n",
    "    while np.linalg.matrix_rank(X[cols].values) < len(cols):\n",
    "        # Calcular VIF para cada columna\n",
    "        vif_series = pd.Series(\n",
    "            [variance_inflation_factor(X[cols].values, i) for i in range(len(cols))],\n",
    "            index=cols\n",
    "        )\n",
    "        # Se elimina la columna con el VIF más alto\n",
    "        drop_col = vif_series.idxmax()\n",
    "        print(f\"Dropping column '{drop_col}' (VIF: {vif_series[drop_col]:.2f}) due to singularity.\")\n",
    "        cols.remove(drop_col)\n",
    "    return cols\n",
    "\n",
    "X_train, X_test, y_train, y_test = joblib.load('data/splits.joblib')\n",
    "X_dum = pd.get_dummies(X_train, drop_first=True)\n",
    "X_dum = X_dum.loc[:, (X_dum != X_dum.iloc[0]).any()]  # eliminar columnas sin variación\n",
    "\n",
    "# Imputar valores faltantes\n",
    "imp = SimpleImputer(strategy='most_frequent')\n",
    "X_dum_imp = pd.DataFrame(\n",
    "    imp.fit_transform(X_dum),\n",
    "    columns=X_dum.columns,\n",
    "    index=X_dum.index\n",
    ").astype(float)\n",
    "\n",
    "X_const = sm.add_constant(X_dum_imp, prepend=True)\n",
    "initial_rank = np.linalg.matrix_rank(X_const.values)\n",
    "print(f\"Rango inicial de la matriz (incl. constante): {initial_rank} de {X_const.shape[1]} columnas\")\n",
    "\n",
    "# Eliminar columnas colineales hasta lograr rango completo\n",
    "full_rank_cols = get_full_rank_columns(X_const)\n",
    "X_const_full = X_const[full_rank_cols]\n",
    "final_rank = np.linalg.matrix_rank(X_const_full.values)\n",
    "print(f\"Rango final de la matriz: {final_rank} de {X_const_full.shape[1]} columnas\")\n",
    "\n",
    "# Ajustar el modelo Logit\n",
    "try:\n",
    "    logit_sm = sm.Logit(y_train.astype(float), X_const_full).fit(disp=False, method='lbfgs')\n",
    "    print(\"Ajuste exitoso usando método 'lbfgs'.\")\n",
    "except Exception as e:\n",
    "    print(\"Error en ajuste con 'lbfgs':\", e)\n",
    "    print(\"Usando ajuste regularizado...\")\n",
    "    logit_sm = sm.Logit(y_train.astype(float), X_const_full).fit_regularized(maxiter=1000, disp=False)\n",
    "    print(\"Ajuste regularizado completado.\")\n",
    "\n",
    "# Guardar el resumen (coeficientes y, si disponible, p‑values) en CSV\n",
    "Path('tables').mkdir(parents=True, exist_ok=True)\n",
    "try:\n",
    "    summary_table = logit_sm.summary2().tables[1]\n",
    "except Exception:\n",
    "    # Si se usó regularización, puede que summary2 no incluya p‑values.\n",
    "    summary_table = pd.DataFrame({'coef': logit_sm.params})\n",
    "summary_table.to_csv('tables/logit_coeffs_pvalues.csv')\n",
    "print(\"✔ Resultados guardados en 'tables/logit_coeffs_pvalues.csv'\")\n",
    "\n",
    "# Calcular VIF para las variables del modelo\n",
    "vif_df = pd.DataFrame({\n",
    "    'feature': X_const_full.columns,\n",
    "    'VIF': [variance_inflation_factor(X_const_full.values, i)\n",
    "            for i in range(X_const_full.shape[1])]\n",
    "})\n",
    "vif_df.to_csv('tables/vif_logit.csv', index=False)\n",
    "print(\"✔ VIF guardado en 'tables/vif_logit.csv'\")\n",
    "\n",
    "num_cols = X_train.select_dtypes(include=['int64','float64']).columns\n",
    "corr = X_train[num_cols].corr()\n",
    "corr.to_csv('tables/corr_numeric.csv')\n",
    "print(\"✔ Matriz de correlación guardada en 'tables/corr_numeric.csv'\")\n",
    "\n",
    "# Mostrar resultados clave en consola\n",
    "print(\"\\nTop‑10 variables más significativas (ordenadas por p‑value ascendente):\")\n",
    "try:\n",
    "    print(summary_table.sort_values('P>|z|').head(10)[['Coef.', 'P>|z|']])\n",
    "except Exception:\n",
    "    print(summary_table.sort_values('coef').head(10))\n",
    "\n",
    "print(\"\\nTop‑10 VIF más altos:\")\n",
    "print(vif_df.sort_values('VIF', ascending=False).head(10))\n"
   ]
  },
  {
   "cell_type": "markdown",
   "id": "f1e451d1",
   "metadata": {},
   "source": [
    "**Interpretación de Resultados:**  \n",
    "- **Multicolinealidad:**  \n",
    "  - Mediante la **varianza inflation factor (VIF)** o la inspección de correlaciones muy altas (por ejemplo, |ρ| > 0.8) se puede evidenciar si dos o más variables se solapan en la información que aportan al modelo. Un valor de VIF > 10 suele considerarse indicio de multicolinealidad seria.  \n",
    "  - La multicolinealidad extrema puede causar inestabilidad en los coeficientes de la Regresión Logística, dificultando la interpretación y generando problemas de sobreajuste o de singularidad de la matriz.\n",
    "- **Variables Significativas:**  \n",
    "  - El **p‑value** asociado a cada coeficiente (en un ajuste sin regularización severa) indica qué tan relevante es la variable para predecir la categoría de la vivienda (cara o no, en este caso). Usualmente se toman como significativas las variables con p‑value < 0.05.  \n",
    "  - Si el ajuste se hace con regularización, la interpretación tradicional de p‑values puede no estar disponible; en ese caso, se valoran los coeficientes que el modelo conserva (no penalizados a cero) como los más influyentes.\n",
    "- **Correlación entre las Variables:**  \n",
    "  - Examinar la **matriz de correlación** de las variables numéricas originales (o tras ciertas transformaciones) revela relaciones lineales fuertes. Por ejemplo, si `GarageArea` y `GarageCars` están fuertemente correlacionadas, puede sugerir que solo una de ellas es estrictamente necesaria.\n",
    "  - Un análisis de correlación previo a la modelación permite reducir redundancias y mejorar la estabilidad del modelo.\n",
    "- **Adaptación del Modelo a los Datos:**  \n",
    "  - Para la Regresión Logística, suele analizarse el **Pseudo R‑squared (McFadden, Nagelkerke, etc.)** y el **Log‑likelihood** final. Valores más altos (o menos negativos, en el caso del log‑likelihood) sugieren un mejor ajuste.  \n",
    "  - Sin embargo, un Pseudo R‑squared bajo no siempre implica un mal modelo: en clasificación, métricas como la exactitud, ROC AUC o la matriz de confusión pueden ser más relevantes para validar la calidad.\n",
    "  - Si se observan avisos de “Singular matrix” o “divide by zero encountered”, es síntoma de multicolinealidad extrema o de separación casi perfecta en los datos, lo cual puede requerir eliminación de variables redundantes o uso de regularización.\n",
    "\n",
    "**Conclusión General del Análisis:**  \n",
    "- En este punto, se profundiza en la naturaleza del modelo: las variables más explicativas, la presencia de correlaciones redundantes y la robustez del ajuste.  \n",
    "- Cualquier hallazgo de multicolinealidad severa o de variables con p‑values altos (p > 0.05) se documenta y se decide (o no) su exclusión en modelos posteriores.  \n",
    "- Si el modelo presenta un comportamiento estable (sin grandes discrepancias, sin singularidades) y las métricas sugieren una buena discriminación entre viviendas caras y no caras, se concluye que el modelo se adapta adecuadamente a los datos. De lo contrario, se plantea un refinamiento adicional en pasos posteriores (por ejemplo, ajustando hiperparámetros, eliminando variables o aplicando técnicas de regularización)."
   ]
  },
  {
   "cell_type": "markdown",
   "id": "4e04dc7c",
   "metadata": {},
   "source": [
    "# Punto 5: Evaluación del Modelo en el Conjunto de Prueba\n",
    "\n",
    "**Enunciado:**  \n",
    "Se debe utilizar el modelo entrenado (por ejemplo, la Regresión Logística) con el conjunto de prueba (test set) y determinar la eficiencia del algoritmo para clasificar si una vivienda es cara o no. Para ello, se calculan e interpretan métricas de evaluación tales como:\n",
    "\n",
    "- **Exactitud (accuracy)**  \n",
    "- **ROC AUC**  \n",
    "- **Reporte de Clasificación** (precisión, recall, F1‑score, soporte)  \n",
    "- **Matriz de Confusión**  \n",
    "\n",
    "Estas métricas son fundamentales para cuantificar el desempeño real del modelo en datos que no fueron usados durante el entrenamiento.\n"
   ]
  },
  {
   "cell_type": "code",
   "execution_count": null,
   "id": "edaaa0a9",
   "metadata": {},
   "outputs": [
    {
     "name": "stdout",
     "output_type": "stream",
     "text": [
      "=== Evaluación del modelo en el conjunto de prueba ===\n",
      "Accuracy (Exactitud): 0.911\n",
      "ROC AUC: 0.970\n",
      "\n",
      "Reporte de Clasificación:\n",
      "              precision    recall  f1-score   support\n",
      "\n",
      "           0       0.93      0.94      0.93       193\n",
      "           1       0.88      0.86      0.87        99\n",
      "\n",
      "    accuracy                           0.91       292\n",
      "   macro avg       0.90      0.90      0.90       292\n",
      "weighted avg       0.91      0.91      0.91       292\n",
      "\n",
      "\n",
      "Matriz de Confusión:\n",
      "[[181  12]\n",
      " [ 14  85]]\n",
      "\n",
      "✔ Resultados guardados en la carpeta 'tables'\n"
     ]
    }
   ],
   "source": [
    "import joblib\n",
    "import numpy as np\n",
    "import pandas as pd\n",
    "from sklearn.metrics import accuracy_score, roc_auc_score, classification_report, confusion_matrix\n",
    "\n",
    "X_train, X_test, y_train, y_test = joblib.load('data/splits.joblib')\n",
    "model = joblib.load('models/logit_cara.joblib')\n",
    "\n",
    "# Realizar predicciones sobre el conjunto de prueba\n",
    "y_pred = model.predict(X_test)\n",
    "\n",
    "if hasattr(model, \"predict_proba\"):\n",
    "    y_proba = model.predict_proba(X_test)[:,1]\n",
    "else:\n",
    "\n",
    "    y_proba = model.decision_function(X_test)\n",
    "    \n",
    "# Calcular métricas de evaluación\n",
    "accuracy = accuracy_score(y_test, y_pred)\n",
    "roc_auc  = roc_auc_score(y_test, y_proba)\n",
    "report   = classification_report(y_test, y_pred)\n",
    "cm       = confusion_matrix(y_test, y_pred)\n",
    "\n",
    "# Mostrar resultados en consola\n",
    "print(\"=== Evaluación del modelo en el conjunto de prueba ===\")\n",
    "print(f\"Accuracy (Exactitud): {accuracy:.3f}\")\n",
    "print(f\"ROC AUC: {roc_auc:.3f}\")\n",
    "print(\"\\nReporte de Clasificación:\")\n",
    "print(report)\n",
    "print(\"\\nMatriz de Confusión:\")\n",
    "print(cm)\n",
    "\n",
    "pd.DataFrame({'Accuracy': [accuracy], 'ROC_AUC': [roc_auc]}).to_csv(\"tables/test_metrics.csv\", index=False)\n",
    "pd.DataFrame(cm, index=[\"Actual 0\", \"Actual 1\"], columns=[\"Predicho 0\", \"Predicho 1\"]).to_csv(\"tables/confusion_matrix.csv\")\n",
    "with open(\"tables/classification_report.txt\", \"w\") as f:\n",
    "    f.write(report)\n",
    "\n",
    "print(\"\\n✔ Resultados guardados en la carpeta 'tables'\")\n"
   ]
  },
  {
   "cell_type": "markdown",
   "id": "b2b93822",
   "metadata": {},
   "source": [
    "**Interpretación de Resultados:**  \n",
    "1. **Exactitud (Accuracy):**  \n",
    "   Mide la proporción de instancias correctamente clasificadas (tanto positivas como negativas). Un valor de 0.911, por ejemplo, indica que el 91.1 % de las viviendas fueron clasificadas correctamente como caras o no caras.\n",
    "\n",
    "2. **ROC AUC:**  \n",
    "   Evalúa la capacidad del modelo para separar correctamente las clases a lo largo de diferentes umbrales de clasificación. Un valor cercano a 1.0 sugiere una discriminación casi perfecta. Por ejemplo, un ROC AUC de 0.90 indica que, en el 90 % de los casos, el modelo ordena correctamente un ejemplo positivo por encima de uno negativo.\n",
    "\n",
    "3. **Reporte de Clasificación:**  \n",
    "   - **Precisión (Precision):** Proporción de verdaderos positivos entre todos los elementos predichos como positivos.  \n",
    "   - **Recall (Exhaustividad/Sensibilidad):** Proporción de verdaderos positivos detectados con respecto a todos los positivos reales.  \n",
    "   - **F1-Score:** Media armónica entre la precisión y el recall, útil cuando se busca un balance entre ambos.  \n",
    "   - **Soporte:** Número de muestras reales que corresponden a cada clase.  \n",
    "\n",
    "4. **Matriz de Confusión:**  \n",
    "   - Muestra la distribución de aciertos y errores desglosados por clase (caras vs. no caras).  \n",
    "   - Permite ver en qué clase el modelo está cometiendo más equivocaciones (falsos positivos o falsos negativos).\n",
    "\n",
    "5. **Importancia de una Evaluación Integral:**  \n",
    "   Aunque la exactitud y el ROC AUC son buenas métricas globales, el análisis detallado a través del reporte de clasificación y la matriz de confusión brinda información más específica sobre en qué casos o clases el modelo se desempeña mejor o tiene dificultades.  \n",
    "   Esto es especialmente valioso cuando las clases están desbalanceadas o cuando cierto tipo de error es más costoso que otro.\n",
    "\n",
    "En conclusión, el punto 5 valida la **eficacia del modelo en datos que no se han visto durante el entrenamiento**, asegurando que el rendimiento reportado no esté sobreestimado. Un buen desempeño en el conjunto de prueba indica que el modelo generaliza adecuadamente y puede aplicarse en situaciones reales."
   ]
  },
  {
   "cell_type": "markdown",
   "id": "4132f430",
   "metadata": {},
   "source": [
    "# Punto 6: Detección de Sobreajuste y Curvas de Aprendizaje\n",
    "\n",
    "**Enunciado:**  \n",
    "Se debe explicar si existe sobreajuste (overfitting) o no en el modelo, empleando para ello los errores en el conjunto de entrenamiento y en el conjunto de prueba. Adicionalmente, se deben mostrar las curvas de aprendizaje (learning curves) que reflejen cómo evoluciona la métrica de error (o precisión) a medida que aumenta el tamaño de la muestra de entrenamiento.\n",
    "\n"
   ]
  },
  {
   "cell_type": "code",
   "execution_count": null,
   "id": "77d4635f",
   "metadata": {},
   "outputs": [
    {
     "data": {
      "image/png": "[encoded data removed]",
      "text/plain": [
       "<Figure size 800x600 with 1 Axes>"
      ]
     },
     "metadata": {},
     "output_type": "display_data"
    },
    {
     "name": "stdout",
     "output_type": "stream",
     "text": [
      "Tamaños de entrenamiento: [ 93 186 280 373 467 560 653 747 840 934]\n",
      "Error de entrenamiento (Log Loss): [0.04168029 0.05539608 0.05440217 0.07395211 0.07281146 0.08624436\n",
      " 0.08375613 0.08289312 0.08787042 0.08929187]\n",
      "Error de validación (Log Loss): [0.29913456 0.23242137 0.23096216 0.30619171 0.30782139 0.27968411\n",
      " 0.27301357 0.27099545 0.26519604 0.24865142]\n"
     ]
    }
   ],
   "source": [
    "import numpy as np\n",
    "import matplotlib.pyplot as plt\n",
    "import joblib\n",
    "from sklearn.model_selection import learning_curve\n",
    "from pathlib import Path\n",
    "\n",
    "X_train, X_test, y_train, y_test = joblib.load('data/splits.joblib')\n",
    "model = joblib.load('models/logit_cara.joblib')\n",
    "\n",
    "# Calcular la curva de aprendizaje\n",
    "train_sizes, train_scores, valid_scores = learning_curve(\n",
    "    model,\n",
    "    X_train,\n",
    "    y_train,\n",
    "    cv=5,\n",
    "    scoring='neg_log_loss',\n",
    "    train_sizes=np.linspace(0.1, 1.0, 10),\n",
    "    n_jobs=-1  # usar todos los núcleos disponibles\n",
    ")\n",
    "\n",
    "# Dado que se usa \"neg_log_loss\", convertimos a error (multiplicando por -1)\n",
    "train_errors = -np.mean(train_scores, axis=1)\n",
    "valid_errors = -np.mean(valid_scores, axis=1)\n",
    "\n",
    "# Graficar las curvas de aprendizaje\n",
    "plt.figure(figsize=(8, 6))\n",
    "plt.plot(train_sizes, train_errors, 'o-', label='Error de Entrenamiento')\n",
    "plt.plot(train_sizes, valid_errors, 'o-', label='Error de Validación')\n",
    "plt.xlabel('Número de muestras de entrenamiento')\n",
    "plt.ylabel('Log Loss')\n",
    "plt.title('Curva de Aprendizaje - Regresión Logística')\n",
    "plt.legend()\n",
    "plt.grid(True)\n",
    "\n",
    "Path(\"figs\").mkdir(parents=True, exist_ok=True)\n",
    "plt.savefig('figs/learning_curve_logit.png', dpi=150)\n",
    "plt.show()\n",
    "\n",
    "# Imprimir los valores calculados\n",
    "print(\"Tamaños de entrenamiento:\", train_sizes)\n",
    "print(\"Error de entrenamiento (Log Loss):\", train_errors)\n",
    "print(\"Error de validación (Log Loss):\", valid_errors)\n"
   ]
  },
  {
   "cell_type": "markdown",
   "id": "e42dfd6c",
   "metadata": {},
   "source": [
    "**Interpretación de Resultados:**  \n",
    "1. **Sobreajuste (Overfitting):**  \n",
    "   - El sobreajuste ocurre cuando el modelo memoriza demasiado los datos de entrenamiento, logrando un error muy bajo en `X_train`, pero fallando al generalizar en `X_test`.  \n",
    "   - Un signo claro de sobreajuste es ver que el **Error de Entrenamiento** es significativamente menor que el **Error de Validación** y que ambas curvas no convergen a medida que aumenta el número de muestras de entrenamiento.\n",
    "\n",
    "2. **Curvas de Aprendizaje (Learning Curves):**  \n",
    "   - Se grafica la evolución del **Log Loss** (o la métrica que se haya elegido) en función del tamaño del set de entrenamiento. Suele mostrarse la curva de error de entrenamiento y la de validación.  \n",
    "   - Si las curvas terminan en valores cercanos (p. ej. el error de entrenamiento ≈ error de validación), se concluye que **no hay sobreajuste** y que el modelo generaliza razonablemente bien.  \n",
    "   - Si la curva de entrenamiento se mantiene muy por debajo de la curva de validación y existe una brecha notable, el modelo podría estar **sobreajustado**.  \n",
    "   - Por el contrario, si ambas curvas se mantienen en valores altos y no convergen, se podría estar frente a **subajuste** (underfitting).\n",
    "\n",
    "3. **Lectura de la Gráfica y de las Métricas:**  \n",
    "   - En la gráfica, cada eje vertical (Log Loss en este caso) indica qué tan mala es la predicción en promedio: a menor valor, mejor el desempeño del modelo.  \n",
    "   - El eje horizontal refleja el tamaño de la muestra de entrenamiento utilizada en cada punto.  \n",
    "   - Un **patrón deseable** es aquel donde, al aumentar el número de muestras, el error de entrenamiento sube ligeramente (o se mantiene estable), mientras que el error de validación baja, y ambas curvas convergen o quedan muy cercanas.\n",
    "\n",
    "4. **Conclusión sobre el Modelo:**  \n",
    "   - Si las curvas de entrenamiento y validación convergen y el error de validación es razonablemente bajo, se concluye que el modelo **generaliza bien** y no hay indicios fuertes de sobreajuste.  \n",
    "   - Si se observan divergencias claras o un error muy elevado en validación comparado con entrenamiento, se considera revisar la complejidad del modelo, la cantidad de variables o la necesidad de regularización.\n",
    "\n",
    "Al final, el análisis de las curvas de aprendizaje complementa el uso de métricas puntuales (como accuracy o ROC AUC en el conjunto de prueba) al ofrecer una **perspectiva dinámica** de cómo el modelo aprende con diferentes cantidades de datos y si logra un equilibrio adecuado entre sesgo (bias) y varianza (variance)."
   ]
  }
 ],
 "metadata": {
  "kernelspec": {
   "display_name": "Python 3",
   "language": "python",
   "name": "python3"
  },
  "language_info": {
   "codemirror_mode": {
    "name": "ipython",
    "version": 3
   },
   "file_extension": ".py",
   "mimetype": "text/x-python",
   "name": "python",
   "nbconvert_exporter": "python",
   "pygments_lexer": "ipython3",
   "version": "3.11.5"
  }
 },
 "nbformat": 4,
 "nbformat_minor": 5
}
